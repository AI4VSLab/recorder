{
 "cells": [
  {
   "cell_type": "code",
   "execution_count": 7,
   "metadata": {},
   "outputs": [
    {
     "name": "stdout",
     "output_type": "stream",
     "text": [
      "Available input devices:\n",
      "Device 0: Microsoft Sound Mapper - Input\n",
      "Device 1: External Mic (5- Realtek(R) Aud\n",
      "Device 2: Microphone Array (5- Realtek(R)\n"
     ]
    }
   ],
   "source": [
    "import pyaudio\n",
    "\n",
    "def list_input_devices():\n",
    "    p = pyaudio.PyAudio()\n",
    "    info = p.get_host_api_info_by_index(0)\n",
    "    numdevices = info.get('deviceCount')\n",
    "    \n",
    "    print(\"Available input devices:\")\n",
    "    for i in range(0, numdevices):\n",
    "        device_info = p.get_device_info_by_host_api_device_index(0, i)\n",
    "        if device_info.get('maxInputChannels') > 0:\n",
    "            print(f\"Device {i}: {device_info.get('name')}\")\n",
    "\n",
    "    p.terminate()\n",
    "\n",
    "list_input_devices()\n"
   ]
  },
  {
   "cell_type": "code",
   "execution_count": 11,
   "metadata": {},
   "outputs": [
    {
     "name": "stdout",
     "output_type": "stream",
     "text": [
      "Recording audio for the  ...\n",
      "Recording stopped for 0.\n"
     ]
    }
   ],
   "source": [
    "import os\n",
    "import time\n",
    "import audioop\n",
    "import wave\n",
    "def record_audio(image_id, exp_id, input_device_index=None):\n",
    "    CHUNK = 1024\n",
    "    FORMAT = pyaudio.paInt16\n",
    "    CHANNELS = 1\n",
    "    RATE = 44100\n",
    "    \n",
    "    OUTPUT_FILENAME = f\"audio/mictest_output.wav\"\n",
    "\n",
    "    p = pyaudio.PyAudio()\n",
    "\n",
    "    # If no specific device is provided, use the default input device\n",
    "    if input_device_index is None:\n",
    "        input_device_index = p.get_default_input_device_info()['index']\n",
    "\n",
    "    stream = p.open(format=FORMAT,\n",
    "                    channels=CHANNELS,\n",
    "                    rate=RATE,\n",
    "                    input=True,\n",
    "                    frames_per_buffer=CHUNK,\n",
    "                    input_device_index=input_device_index)\n",
    "\n",
    "    \n",
    "\n",
    "    print(f\"Recording audio for the  ...\")\n",
    "    start_time = time.time()\n",
    "    frames = []\n",
    "    while time.time() - start_time < 10:\n",
    "        # Your audio recording logic here\n",
    "        data = stream.read(CHUNK)\n",
    "        frames.append(data)\n",
    "        # Check the audio level\n",
    "        audio_level = audioop.rms(data, 2)  # Get the RMS of the chunk\n",
    "\n",
    "    print(f\"Recording stopped for {image_id}.\")\n",
    "    # Stop and close the stream\n",
    "    stream.stop_stream()\n",
    "    stream.close()\n",
    "    p.terminate()\n",
    "\n",
    "    # Save the recorded data as a WAV file\n",
    "    wf = wave.open(OUTPUT_FILENAME, 'wb')\n",
    "    wf.setnchannels(CHANNELS)\n",
    "    wf.setsampwidth(p.get_sample_size(FORMAT))\n",
    "    wf.setframerate(RATE)\n",
    "    wf.writeframes(b''.join(frames))\n",
    "    wf.close()\n",
    "\n",
    "    # TODO: upload to google cloud bucket \n",
    "    script_path = 'push2git.sh'\n",
    "    # Call the script\n",
    "    \n",
    "    \n",
    "    #result = subprocess.run([script_path], stdout=subprocess.PIPE, stderr=subprocess.PIPE, text=True)\n",
    "\n",
    "    # Output the result\n",
    "    #print(\"stdout:\", result.stdout)\n",
    "    #print(\"stderr:\", result.stderr)\n",
    "    \n",
    "    # TODO: call google cloud sdk using\n",
    "\n",
    "record_audio(0, 0, input_device_index=2)\n"
   ]
  },
  {
   "cell_type": "code",
   "execution_count": 12,
   "metadata": {},
   "outputs": [
    {
     "name": "stdout",
     "output_type": "stream",
     "text": [
      "Recording started for image 0...\n",
      "Recording stopped for 0.\n"
     ]
    }
   ],
   "source": [
    "def record_audio_legacy(image_id,exp_id):\n",
    "    # Define the basic parameters for recording\n",
    "    CHUNK = 1024  # Number of audio frames per buffer\n",
    "    FORMAT = pyaudio.paInt16  # Audio format (16-bit integer)\n",
    "    CHANNELS = 1  # Number of audio channels\n",
    "    RATE = 44100  # Sampling rate (samples per second)\n",
    "\n",
    "    # make folder if doesn't exists\n",
    "\n",
    "    OUTPUT_FILENAME = f\"audio/mictest_output.wav\"\n",
    "\n",
    "    # Initialize PyAudio\n",
    "    p = pyaudio.PyAudio()\n",
    "\n",
    "    # Open the stream for recording\n",
    "    stream = p.open(format=FORMAT,\n",
    "                    channels=CHANNELS,\n",
    "                    rate=RATE,\n",
    "                    input=True,\n",
    "                    frames_per_buffer=CHUNK)\n",
    "\n",
    "    print(f\"Recording started for image {image_id}...\")\n",
    "\n",
    "    frames = []\n",
    "    start_time = time.time()\n",
    "    frames = []\n",
    "    while time.time() - start_time < 10:\n",
    "        # Your audio recording logic here\n",
    "        data = stream.read(CHUNK)\n",
    "        frames.append(data)\n",
    "        # Check the audio level\n",
    "        audio_level = audioop.rms(data, 2)  # Get the RMS of the chunk\n",
    "\n",
    "    print(f\"Recording stopped for {image_id}.\")\n",
    "    # Stop and close the stream\n",
    "    stream.stop_stream()\n",
    "    stream.close()\n",
    "    p.terminate()\n",
    "\n",
    "    # Save the recorded data as a WAV file\n",
    "    wf = wave.open(OUTPUT_FILENAME, 'wb')\n",
    "    wf.setnchannels(CHANNELS)\n",
    "    wf.setsampwidth(p.get_sample_size(FORMAT))\n",
    "    wf.setframerate(RATE)\n",
    "    wf.writeframes(b''.join(frames))\n",
    "    wf.close()\n",
    "\n",
    "    # TODO: upload to google cloud bucket \n",
    "    script_path = 'push2git.sh'\n",
    "    # Call the script\n",
    "    \n",
    "    \n",
    "    #result = subprocess.run([script_path], stdout=subprocess.PIPE, stderr=subprocess.PIPE, text=True)\n",
    "\n",
    "    # Output the result\n",
    "    #print(\"stdout:\", result.stdout)\n",
    "    #print(\"stderr:\", result.stderr)\n",
    "    \n",
    "    # TODO: call google cloud sdk using\n",
    "\n",
    "\n",
    "\n",
    "record_audio_legacy(0,0)"
   ]
  },
  {
   "cell_type": "code",
   "execution_count": null,
   "metadata": {},
   "outputs": [],
   "source": []
  }
 ],
 "metadata": {
  "kernelspec": {
   "display_name": "gcloud_speech2text",
   "language": "python",
   "name": "python3"
  },
  "language_info": {
   "codemirror_mode": {
    "name": "ipython",
    "version": 3
   },
   "file_extension": ".py",
   "mimetype": "text/x-python",
   "name": "python",
   "nbconvert_exporter": "python",
   "pygments_lexer": "ipython3",
   "version": "3.12.2"
  }
 },
 "nbformat": 4,
 "nbformat_minor": 2
}
