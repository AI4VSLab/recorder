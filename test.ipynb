{
 "cells": [
  {
   "cell_type": "code",
   "execution_count": 1,
   "metadata": {},
   "outputs": [
    {
     "name": "stdout",
     "output_type": "stream",
     "text": [
      "Available input devices:\n",
      "Device 0: Michael’s iPhone Microphone\n",
      "Device 2: MacBook Pro Microphone\n"
     ]
    }
   ],
   "source": [
    "import pyaudio\n",
    "\n",
    "def list_input_devices():\n",
    "    p = pyaudio.PyAudio()\n",
    "    info = p.get_host_api_info_by_index(0)\n",
    "    numdevices = info.get('deviceCount')\n",
    "    \n",
    "    print(\"Available input devices:\")\n",
    "    for i in range(0, numdevices):\n",
    "        device_info = p.get_device_info_by_host_api_device_index(0, i)\n",
    "        if device_info.get('maxInputChannels') > 0:\n",
    "            print(f\"Device {i}: {device_info.get('name')}\")\n",
    "\n",
    "    p.terminate()\n",
    "\n",
    "list_input_devices()\n"
   ]
  },
  {
   "cell_type": "code",
   "execution_count": null,
   "metadata": {},
   "outputs": [],
   "source": []
  }
 ],
 "metadata": {
  "kernelspec": {
   "display_name": "gcloud_speech2text",
   "language": "python",
   "name": "python3"
  },
  "language_info": {
   "codemirror_mode": {
    "name": "ipython",
    "version": 3
   },
   "file_extension": ".py",
   "mimetype": "text/x-python",
   "name": "python",
   "nbconvert_exporter": "python",
   "pygments_lexer": "ipython3",
   "version": "3.12.2"
  }
 },
 "nbformat": 4,
 "nbformat_minor": 2
}
